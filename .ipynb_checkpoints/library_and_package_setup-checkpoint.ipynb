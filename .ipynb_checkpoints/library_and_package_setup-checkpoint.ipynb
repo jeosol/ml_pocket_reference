{
 "cells": [
  {
   "cell_type": "code",
   "execution_count": 8,
   "id": "a74558ed",
   "metadata": {},
   "outputs": [],
   "source": [
    "# library names to install all relevant software\n",
    "#lib_names = [auto-sklearn, catboost, --no-deps fastai"
   ]
  },
  {
   "cell_type": "code",
   "execution_count": 1,
   "id": "985055fa",
   "metadata": {},
   "outputs": [
    {
     "ename": "ModuleNotFoundError",
     "evalue": "No module named 'category_encoders'",
     "output_type": "error",
     "traceback": [
      "\u001b[0;31m---------------------------------------------------------------------------\u001b[0m",
      "\u001b[0;31mModuleNotFoundError\u001b[0m                       Traceback (most recent call last)",
      "\u001b[0;32m<ipython-input-1-bf8df36f5595>\u001b[0m in \u001b[0;36m<module>\u001b[0;34m\u001b[0m\n\u001b[0;32m----> 1\u001b[0;31m \u001b[0;32mimport\u001b[0m \u001b[0mautosklearn\u001b[0m\u001b[0;34m,\u001b[0m \u001b[0mcatboost\u001b[0m\u001b[0;34m,\u001b[0m \u001b[0mcategory_encoders\u001b[0m\u001b[0;34m,\u001b[0m \u001b[0mdtreeviz\u001b[0m\u001b[0;34m,\u001b[0m \u001b[0meli5\u001b[0m\u001b[0;34m,\u001b[0m \u001b[0mfancyimpute\u001b[0m\u001b[0;34m,\u001b[0m \u001b[0mfastai\u001b[0m\u001b[0;34m,\u001b[0m \u001b[0mfeaturetools\u001b[0m\u001b[0;34m,\u001b[0m \u001b[0mglmnet_py\u001b[0m\u001b[0;34m,\u001b[0m \u001b[0mgraphvis\u001b[0m\u001b[0;34m,\u001b[0m\u001b[0;31m\\\u001b[0m\u001b[0;34m\u001b[0m\u001b[0;34m\u001b[0m\u001b[0m\n\u001b[0m\u001b[1;32m      2\u001b[0m \u001b[0mhdbscan\u001b[0m\u001b[0;34m,\u001b[0m \u001b[0mimblearn\u001b[0m\u001b[0;34m,\u001b[0m \u001b[0mjanitor\u001b[0m\u001b[0;34m,\u001b[0m \u001b[0mlime\u001b[0m\u001b[0;34m,\u001b[0m \u001b[0mmatplotlib\u001b[0m\u001b[0;34m,\u001b[0m \u001b[0mmssingno\u001b[0m\u001b[0;34m,\u001b[0m \u001b[0mmlxtend\u001b[0m\u001b[0;34m,\u001b[0m \u001b[0mnumpy\u001b[0m\u001b[0;34m,\u001b[0m \u001b[0mpandas\u001b[0m\u001b[0;34m,\u001b[0m \u001b[0mpdbox\u001b[0m\u001b[0;34m,\u001b[0m \u001b[0mphate\u001b[0m\u001b[0;34m,\u001b[0m \u001b[0mpydotplus\u001b[0m\u001b[0;34m,\u001b[0m \u001b[0mrfpimp\u001b[0m\u001b[0;34m,\u001b[0m \u001b[0mscikitplot\u001b[0m\u001b[0;34m,\u001b[0m\u001b[0;31m \u001b[0m\u001b[0;31m\\\u001b[0m\u001b[0;34m\u001b[0m\u001b[0;34m\u001b[0m\u001b[0m\n\u001b[1;32m      3\u001b[0m \u001b[0mscipy\u001b[0m\u001b[0;34m,\u001b[0m \u001b[0mseaborn\u001b[0m\u001b[0;34m,\u001b[0m \u001b[0mshap\u001b[0m\u001b[0;34m,\u001b[0m \u001b[0msklearn\u001b[0m\u001b[0;34m,\u001b[0m \u001b[0mstatsmodel\u001b[0m\u001b[0;34m,\u001b[0m \u001b[0mtpot\u001b[0m\u001b[0;34m,\u001b[0m \u001b[0mtreeinterpreter\u001b[0m\u001b[0;34m,\u001b[0m \u001b[0mumap\u001b[0m\u001b[0;34m,\u001b[0m \u001b[0mxgbfir\u001b[0m\u001b[0;34m,\u001b[0m \u001b[0mxgboost\u001b[0m\u001b[0;34m,\u001b[0m \u001b[0myellowbrick\u001b[0m\u001b[0;34m\u001b[0m\u001b[0;34m\u001b[0m\u001b[0m\n",
      "\u001b[0;31mModuleNotFoundError\u001b[0m: No module named 'category_encoders'"
     ]
    }
   ],
   "source": [
    "import autosklearn, catboost, category_encoders, dtreeviz, eli5, fancyimpute, fastai, featuretools, glmnet_py, graphvis,\\\n",
    "hdbscan, imblearn, janitor, lime, matplotlib, mssingno, mlxtend, numpy, pandas, pdbox, phate, pydotplus, rfpimp, scikitplot, \\\n",
    "scipy, seaborn, shap, sklearn, statsmodel, tpot, treeinterpreter, umap, xgbfir, xgboost, yellowbrick"
   ]
  },
  {
   "cell_type": "code",
   "execution_count": null,
   "id": "5fb4f4b4",
   "metadata": {},
   "outputs": [],
   "source": []
  }
 ],
 "metadata": {
  "kernelspec": {
   "display_name": "Python 3",
   "language": "python",
   "name": "python3"
  },
  "language_info": {
   "codemirror_mode": {
    "name": "ipython",
    "version": 3
   },
   "file_extension": ".py",
   "mimetype": "text/x-python",
   "name": "python",
   "nbconvert_exporter": "python",
   "pygments_lexer": "ipython3",
   "version": "3.9.0"
  }
 },
 "nbformat": 4,
 "nbformat_minor": 5
}
