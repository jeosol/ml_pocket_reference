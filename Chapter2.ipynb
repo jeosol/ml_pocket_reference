{
 "cells": [
  {
   "cell_type": "markdown",
   "id": "00d4474f",
   "metadata": {},
   "source": [
    "# Chapter 2: Overview of the Machine Learning Process"
   ]
  },
  {
   "cell_type": "markdown",
   "id": "c7eefb24",
   "metadata": {},
   "source": [
    "The Cross-Industry Standard Process for Data Mining (CRISP-DM) is a process for doing data mining. It has several steps that can be followed for continuous improvement:\n",
    "\n",
    "1. Business understanding\n",
    "\n",
    "2. Data understanding\n",
    "\n",
    "3. Data preparation\n",
    "\n",
    "4. Modeling\n",
    "\n",
    "5. Evaluation\n",
    "\n",
    "6. Deployment"
   ]
  }
 ],
 "metadata": {
  "kernelspec": {
   "display_name": "Python 3",
   "language": "python",
   "name": "python3"
  },
  "language_info": {
   "codemirror_mode": {
    "name": "ipython",
    "version": 3
   },
   "file_extension": ".py",
   "mimetype": "text/x-python",
   "name": "python",
   "nbconvert_exporter": "python",
   "pygments_lexer": "ipython3",
   "version": "3.7.12"
  }
 },
 "nbformat": 4,
 "nbformat_minor": 5
}
