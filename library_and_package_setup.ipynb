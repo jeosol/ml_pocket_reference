{
 "cells": [
  {
   "cell_type": "code",
   "execution_count": 8,
   "id": "9bf0d885",
   "metadata": {},
   "outputs": [],
   "source": [
    "# library names to install all relevant software\n",
    "#lib_names = [auto-sklearn, catboos1t, --no-deps fastai"
   ]
  },
  {
   "cell_type": "code",
   "execution_count": 4,
   "id": "84f2f12e",
   "metadata": {},
   "outputs": [
    {
     "name": "stdout",
     "output_type": "stream",
     "text": [
      "pip 21.3.1 from /home/onwunalu/.pyenv/versions/3.9.0/lib/python3.9/site-packages/pip (python 3.9)\r\n"
     ]
    }
   ],
   "source": [
    "!pip --version"
   ]
  },
  {
   "cell_type": "code",
   "execution_count": 1,
   "id": "8c6375ee",
   "metadata": {},
   "outputs": [
    {
     "ename": "IncorrectPackageVersionError",
     "evalue": "found 'dask' version 2021.12.0 but requires dask version <2021.07",
     "output_type": "error",
     "traceback": [
      "\u001b[0;31m---------------------------------------------------------------------------\u001b[0m",
      "\u001b[0;31mIncorrectPackageVersionError\u001b[0m              Traceback (most recent call last)",
      "\u001b[0;32m<ipython-input-1-bf8df36f5595>\u001b[0m in \u001b[0;36m<module>\u001b[0;34m\u001b[0m\n\u001b[0;32m----> 1\u001b[0;31m \u001b[0;32mimport\u001b[0m \u001b[0mautosklearn\u001b[0m\u001b[0;34m,\u001b[0m \u001b[0mcatboost\u001b[0m\u001b[0;34m,\u001b[0m \u001b[0mcategory_encoders\u001b[0m\u001b[0;34m,\u001b[0m \u001b[0mdtreeviz\u001b[0m\u001b[0;34m,\u001b[0m \u001b[0meli5\u001b[0m\u001b[0;34m,\u001b[0m \u001b[0mfancyimpute\u001b[0m\u001b[0;34m,\u001b[0m \u001b[0mfastai\u001b[0m\u001b[0;34m,\u001b[0m \u001b[0mfeaturetools\u001b[0m\u001b[0;34m,\u001b[0m \u001b[0mglmnet_py\u001b[0m\u001b[0;34m,\u001b[0m \u001b[0mgraphvis\u001b[0m\u001b[0;34m,\u001b[0m\u001b[0;31m\\\u001b[0m\u001b[0;34m\u001b[0m\u001b[0;34m\u001b[0m\u001b[0m\n\u001b[0m\u001b[1;32m      2\u001b[0m \u001b[0mhdbscan\u001b[0m\u001b[0;34m,\u001b[0m \u001b[0mimblearn\u001b[0m\u001b[0;34m,\u001b[0m \u001b[0mjanitor\u001b[0m\u001b[0;34m,\u001b[0m \u001b[0mlime\u001b[0m\u001b[0;34m,\u001b[0m \u001b[0mmatplotlib\u001b[0m\u001b[0;34m,\u001b[0m \u001b[0mmssingno\u001b[0m\u001b[0;34m,\u001b[0m \u001b[0mmlxtend\u001b[0m\u001b[0;34m,\u001b[0m \u001b[0mnumpy\u001b[0m\u001b[0;34m,\u001b[0m \u001b[0mpandas\u001b[0m\u001b[0;34m,\u001b[0m \u001b[0mpdbox\u001b[0m\u001b[0;34m,\u001b[0m \u001b[0mphate\u001b[0m\u001b[0;34m,\u001b[0m \u001b[0mpydotplus\u001b[0m\u001b[0;34m,\u001b[0m \u001b[0mrfpimp\u001b[0m\u001b[0;34m,\u001b[0m \u001b[0mscikitplot\u001b[0m\u001b[0;34m,\u001b[0m\u001b[0;31m \u001b[0m\u001b[0;31m\\\u001b[0m\u001b[0;34m\u001b[0m\u001b[0;34m\u001b[0m\u001b[0m\n\u001b[1;32m      3\u001b[0m \u001b[0mscipy\u001b[0m\u001b[0;34m,\u001b[0m \u001b[0mseaborn\u001b[0m\u001b[0;34m,\u001b[0m \u001b[0mshap\u001b[0m\u001b[0;34m,\u001b[0m \u001b[0msklearn\u001b[0m\u001b[0;34m,\u001b[0m \u001b[0mstatsmodel\u001b[0m\u001b[0;34m,\u001b[0m \u001b[0mtpot\u001b[0m\u001b[0;34m,\u001b[0m \u001b[0mtreeinterpreter\u001b[0m\u001b[0;34m,\u001b[0m \u001b[0mumap\u001b[0m\u001b[0;34m,\u001b[0m \u001b[0mxgbfir\u001b[0m\u001b[0;34m,\u001b[0m \u001b[0mxgboost\u001b[0m\u001b[0;34m,\u001b[0m \u001b[0myellowbrick\u001b[0m\u001b[0;34m\u001b[0m\u001b[0;34m\u001b[0m\u001b[0m\n",
      "\u001b[0;32m~/.pyenv/versions/3.9.0/lib/python3.9/site-packages/autosklearn/__init__.py\u001b[0m in \u001b[0;36m<module>\u001b[0;34m\u001b[0m\n\u001b[1;32m     11\u001b[0m \u001b[0mrequirements\u001b[0m \u001b[0;34m=\u001b[0m \u001b[0mrequirements\u001b[0m\u001b[0;34m.\u001b[0m\u001b[0mdecode\u001b[0m\u001b[0;34m(\u001b[0m\u001b[0;34m'utf-8'\u001b[0m\u001b[0;34m)\u001b[0m\u001b[0;34m\u001b[0m\u001b[0;34m\u001b[0m\u001b[0m\n\u001b[1;32m     12\u001b[0m \u001b[0;34m\u001b[0m\u001b[0m\n\u001b[0;32m---> 13\u001b[0;31m \u001b[0mdependencies\u001b[0m\u001b[0;34m.\u001b[0m\u001b[0mverify_packages\u001b[0m\u001b[0;34m(\u001b[0m\u001b[0mrequirements\u001b[0m\u001b[0;34m)\u001b[0m\u001b[0;34m\u001b[0m\u001b[0;34m\u001b[0m\u001b[0m\n\u001b[0m\u001b[1;32m     14\u001b[0m \u001b[0;34m\u001b[0m\u001b[0m\n\u001b[1;32m     15\u001b[0m \u001b[0;32mif\u001b[0m \u001b[0mos\u001b[0m\u001b[0;34m.\u001b[0m\u001b[0mname\u001b[0m \u001b[0;34m!=\u001b[0m \u001b[0;34m'posix'\u001b[0m\u001b[0;34m:\u001b[0m\u001b[0;34m\u001b[0m\u001b[0;34m\u001b[0m\u001b[0m\n",
      "\u001b[0;32m~/.pyenv/versions/3.9.0/lib/python3.9/site-packages/autosklearn/util/dependencies.py\u001b[0m in \u001b[0;36mverify_packages\u001b[0;34m(packages)\u001b[0m\n\u001b[1;32m     23\u001b[0m             \u001b[0moperation\u001b[0m \u001b[0;34m=\u001b[0m \u001b[0mmatch\u001b[0m\u001b[0;34m.\u001b[0m\u001b[0mgroup\u001b[0m\u001b[0;34m(\u001b[0m\u001b[0;34m'operation1'\u001b[0m\u001b[0;34m)\u001b[0m\u001b[0;34m\u001b[0m\u001b[0;34m\u001b[0m\u001b[0m\n\u001b[1;32m     24\u001b[0m             \u001b[0mversion\u001b[0m \u001b[0;34m=\u001b[0m \u001b[0mmatch\u001b[0m\u001b[0;34m.\u001b[0m\u001b[0mgroup\u001b[0m\u001b[0;34m(\u001b[0m\u001b[0;34m'version1'\u001b[0m\u001b[0;34m)\u001b[0m\u001b[0;34m\u001b[0m\u001b[0;34m\u001b[0m\u001b[0m\n\u001b[0;32m---> 25\u001b[0;31m             \u001b[0m_verify_package\u001b[0m\u001b[0;34m(\u001b[0m\u001b[0mname\u001b[0m\u001b[0;34m,\u001b[0m \u001b[0moperation\u001b[0m\u001b[0;34m,\u001b[0m \u001b[0mversion\u001b[0m\u001b[0;34m)\u001b[0m\u001b[0;34m\u001b[0m\u001b[0;34m\u001b[0m\u001b[0m\n\u001b[0m\u001b[1;32m     26\u001b[0m         \u001b[0;32melse\u001b[0m\u001b[0;34m:\u001b[0m\u001b[0;34m\u001b[0m\u001b[0;34m\u001b[0m\u001b[0m\n\u001b[1;32m     27\u001b[0m             \u001b[0;32mraise\u001b[0m \u001b[0mValueError\u001b[0m\u001b[0;34m(\u001b[0m\u001b[0;34m'Unable to read requirement: %s'\u001b[0m \u001b[0;34m%\u001b[0m \u001b[0mpackage\u001b[0m\u001b[0;34m)\u001b[0m\u001b[0;34m\u001b[0m\u001b[0;34m\u001b[0m\u001b[0m\n",
      "\u001b[0;32m~/.pyenv/versions/3.9.0/lib/python3.9/site-packages/autosklearn/util/dependencies.py\u001b[0m in \u001b[0;36m_verify_package\u001b[0;34m(name, operation, version)\u001b[0m\n\u001b[1;32m     59\u001b[0m             'operation \\'%s\\' is not supported' % operation)\n\u001b[1;32m     60\u001b[0m     \u001b[0;32mif\u001b[0m \u001b[0;32mnot\u001b[0m \u001b[0mcheck\u001b[0m\u001b[0;34m:\u001b[0m\u001b[0;34m\u001b[0m\u001b[0;34m\u001b[0m\u001b[0m\n\u001b[0;32m---> 61\u001b[0;31m         raise IncorrectPackageVersionError(name, installed_version, operation,\n\u001b[0m\u001b[1;32m     62\u001b[0m                                            required_version)\n\u001b[1;32m     63\u001b[0m \u001b[0;34m\u001b[0m\u001b[0m\n",
      "\u001b[0;31mIncorrectPackageVersionError\u001b[0m: found 'dask' version 2021.12.0 but requires dask version <2021.07"
     ]
    }
   ],
   "source": [
    "import autosklearn, catboost, category_encoders, dtreeviz, eli5, fancyimpute, fastai, featuretools, glmnet_py, graphvis,\\\n",
    "hdbscan, imblearn, janitor, lime, matplotlib, mssingno, mlxtend, numpy, pandas, pdbox, phate, pydotplus, rfpimp, scikitplot, \\\n",
    "scipy, seaborn, shap, sklearn, statsmodel, tpot, treeinterpreter, umap, xgbfir, xgboost, yellowbrick"
   ]
  },
  {
   "cell_type": "code",
   "execution_count": null,
   "id": "b9fbf92f",
   "metadata": {},
   "outputs": [],
   "source": []
  }
 ],
 "metadata": {
  "kernelspec": {
   "display_name": "Python 3",
   "language": "python",
   "name": "python3"
  },
  "language_info": {
   "codemirror_mode": {
    "name": "ipython",
    "version": 3
   },
   "file_extension": ".py",
   "mimetype": "text/x-python",
   "name": "python",
   "nbconvert_exporter": "python",
   "pygments_lexer": "ipython3",
   "version": "3.9.0"
  }
 },
 "nbformat": 4,
 "nbformat_minor": 5
}
